{
  "nbformat": 4,
  "nbformat_minor": 0,
  "metadata": {
    "colab": {
      "provenance": [],
      "gpuType": "T4",
      "mount_file_id": "1CtumQYaUhwntWMbitLUOWW0Enk0Hkdfk",
      "authorship_tag": "ABX9TyNYetXky021y9taR67BLb0a",
      "include_colab_link": true
    },
    "kernelspec": {
      "name": "python3",
      "display_name": "Python 3"
    },
    "language_info": {
      "name": "python"
    },
    "accelerator": "GPU"
  },
  "cells": [
    {
      "cell_type": "markdown",
      "metadata": {
        "id": "view-in-github",
        "colab_type": "text"
      },
      "source": [
        "<a href=\"https://colab.research.google.com/github/KunalRoutray/Pinnacle_Labs_AI_Projects/blob/main/Teachable__Machine/Teachable__Machine.ipynb\" target=\"_parent\"><img src=\"https://colab.research.google.com/assets/colab-badge.svg\" alt=\"Open In Colab\"/></a>"
      ]
    },
    {
      "cell_type": "code",
      "source": [
        "import tensorflow as tf\n",
        "import numpy as np\n",
        "from PIL import Image\n",
        "from IPython.display import Javascript, display\n",
        "from google.colab.output import eval_js\n",
        "from base64 import b64decode\n"
      ],
      "metadata": {
        "id": "yC2l4bPUL0wQ"
      },
      "execution_count": null,
      "outputs": []
    },
    {
      "cell_type": "code",
      "source": [
        "interpreter = tf.lite.Interpreter(model_path=\"model_unquant.tflite\")\n",
        "interpreter.allocate_tensors()\n",
        "\n",
        "input_details = interpreter.get_input_details()\n",
        "output_details = interpreter.get_output_details()\n",
        "\n",
        "# Load labels\n",
        "with open(\"labels.txt\", \"r\") as f:\n",
        "    labels = [line.strip().split(\" \", 1)[1] for line in f.readlines()]\n",
        "\n",
        "print(\"✅ Model Loaded\")\n",
        "print(\"Labels:\", labels)\n"
      ],
      "metadata": {
        "id": "fhqzcC5ML09H",
        "colab": {
          "base_uri": "https://localhost:8080/"
        },
        "outputId": "ba3757df-cfe0-494a-f442-9d94e1eae9f0"
      },
      "execution_count": null,
      "outputs": [
        {
          "output_type": "stream",
          "name": "stdout",
          "text": [
            "✅ Model Loaded\n",
            "Labels: ['happy', 'sad', 'normal', 'angry']\n"
          ]
        }
      ]
    },
    {
      "cell_type": "code",
      "source": [
        "def predict_image(img_path):\n",
        "    img = Image.open(img_path).convert(\"RGB\").resize((224, 224))\n",
        "    img_array = np.array(img, dtype=np.float32) / 255.0\n",
        "    img_array = np.expand_dims(img_array, axis=0)\n",
        "\n",
        "    interpreter.set_tensor(input_details[0]['index'], img_array)\n",
        "    interpreter.invoke()\n",
        "    preds = interpreter.get_tensor(output_details[0]['index'])[0]\n",
        "\n",
        "    index = np.argmax(preds)\n",
        "    confidence = preds[index]\n",
        "    print(f\"🎯 Expression: {labels[index]} | Confidence: {confidence:.2f}\")\n",
        "\n"
      ],
      "metadata": {
        "id": "vPTWXen6OgvY"
      },
      "execution_count": null,
      "outputs": []
    },
    {
      "cell_type": "code",
      "source": [
        "def take_photo(filename='photo.jpg', quality=0.8):\n",
        "    js = Javascript('''\n",
        "      async function takePhoto(quality) {\n",
        "        const div = document.createElement('div');\n",
        "        const capture = document.createElement('button');\n",
        "        capture.textContent = '📸 Capture';\n",
        "        div.appendChild(capture);\n",
        "\n",
        "        const video = document.createElement('video');\n",
        "        video.style.display = 'block';\n",
        "        const stream = await navigator.mediaDevices.getUserMedia({video: true});\n",
        "\n",
        "        document.body.appendChild(div);\n",
        "        div.appendChild(video);\n",
        "        video.srcObject = stream;\n",
        "        await video.play();\n",
        "\n",
        "        google.colab.output.setIframeHeight(document.documentElement.scrollHeight, true);\n",
        "\n",
        "        await new Promise((resolve) => capture.onclick = resolve);\n",
        "\n",
        "        const canvas = document.createElement('canvas');\n",
        "        canvas.width = video.videoWidth;\n",
        "        canvas.height = video.videoHeight;\n",
        "        canvas.getContext('2d').drawImage(video, 0, 0);\n",
        "\n",
        "        stream.getTracks().forEach(track => track.stop());\n",
        "        div.remove();\n",
        "\n",
        "        return canvas.toDataURL('image/jpeg', quality);\n",
        "      }\n",
        "      takePhoto(%f);\n",
        "    ''' % quality)\n",
        "    display(js)\n",
        "    data = eval_js('takePhoto(%f)' % quality)\n",
        "    binary = b64decode(data.split(',')[1])\n",
        "    with open(filename, 'wb') as f:\n",
        "        f.write(binary)\n",
        "    return filename"
      ],
      "metadata": {
        "id": "ut0w8xaQOg2A"
      },
      "execution_count": null,
      "outputs": []
    },
    {
      "cell_type": "code",
      "source": [
        "img_path = take_photo()     # Capture image from webcam\n",
        "predict_image(img_path)     # Run prediction\n"
      ],
      "metadata": {
        "colab": {
          "base_uri": "https://localhost:8080/",
          "height": 538
        },
        "id": "byjERxpKOg7Y",
        "outputId": "584cee5d-48f8-4f83-ca5b-a2e7be0fabde"
      },
      "execution_count": null,
      "outputs": [
        {
          "output_type": "display_data",
          "data": {
            "text/plain": [
              "<IPython.core.display.Javascript object>"
            ],
            "application/javascript": [
              "\n",
              "      async function takePhoto(quality) {\n",
              "        const div = document.createElement('div');\n",
              "        const capture = document.createElement('button');\n",
              "        capture.textContent = '📸 Capture';\n",
              "        div.appendChild(capture);\n",
              "\n",
              "        const video = document.createElement('video');\n",
              "        video.style.display = 'block';\n",
              "        const stream = await navigator.mediaDevices.getUserMedia({video: true});\n",
              "\n",
              "        document.body.appendChild(div);\n",
              "        div.appendChild(video);\n",
              "        video.srcObject = stream;\n",
              "        await video.play();\n",
              "\n",
              "        google.colab.output.setIframeHeight(document.documentElement.scrollHeight, true);\n",
              "\n",
              "        await new Promise((resolve) => capture.onclick = resolve);\n",
              "\n",
              "        const canvas = document.createElement('canvas');\n",
              "        canvas.width = video.videoWidth;\n",
              "        canvas.height = video.videoHeight;\n",
              "        canvas.getContext('2d').drawImage(video, 0, 0);\n",
              "\n",
              "        stream.getTracks().forEach(track => track.stop());\n",
              "        div.remove();\n",
              "\n",
              "        return canvas.toDataURL('image/jpeg', quality);\n",
              "      }\n",
              "      takePhoto(0.800000);\n",
              "    "
            ]
          },
          "metadata": {}
        },
        {
          "output_type": "stream",
          "name": "stdout",
          "text": [
            "🎯 Expression: angry | Confidence: 0.97\n"
          ]
        }
      ]
    }
  ]
}